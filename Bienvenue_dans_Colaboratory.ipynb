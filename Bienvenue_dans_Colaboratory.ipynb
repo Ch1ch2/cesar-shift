{
  "cells": [
    {
      "cell_type": "markdown",
      "metadata": {
        "id": "view-in-github",
        "colab_type": "text"
      },
      "source": [
        "<a href=\"https://colab.research.google.com/github/Ch1ch2/cesar-shift/blob/master/Bienvenue_dans_Colaboratory.ipynb\" target=\"_parent\"><img src=\"https://colab.research.google.com/assets/colab-badge.svg\" alt=\"Open In Colab\"/></a>"
      ]
    },
    {
      "cell_type": "markdown",
      "source": [
        "la regression lineaire\n"
      ],
      "metadata": {
        "id": "WqAuQPFcrNh8"
      }
    },
    {
      "cell_type": "code",
      "source": [
        "import numpy as np\n",
        "from sklearn.linear_model import LinearRegression\n",
        "import matplotlib.pyplot as plt\n",
        "from scipy.optimize import minimize\n",
        "X=np.array([1,2,3,4,5,6]).reshape(-1,1)\n",
        "y=np.array([2,4,3,2,6,7])\n",
        "# creer le modele \n",
        "reg=LinearRegression().fit(X,y)\n",
        "#tracer les points du modele\n",
        "plt.scatter(X,y,color='black')\n",
        "#Tracer line of linear regression\n",
        "plt.plot(X,reg.predict(X), color='blue',linewidth=3)\n",
        "plt.show()\n"
      ],
      "metadata": {
        "id": "bQzJPaaLrRr-",
        "outputId": "f9f8c87e-a345-4469-fd81-1d6fe18f6e40",
        "colab": {
          "base_uri": "https://localhost:8080/",
          "height": 265
        }
      },
      "execution_count": 27,
      "outputs": [
        {
          "output_type": "display_data",
          "data": {
            "text/plain": [
              "<Figure size 432x288 with 1 Axes>"
            ],
            "image/png": "[encoded data removed]"
          },
          "metadata": {
            "needs_background": "light"
          }
        }
      ]
    },
    {
      "cell_type": "markdown",
      "source": [
        "les coefficient de la regression y=w+w1X+e\n",
        "voila maintenant on minimise lerreur \n",
        "dapres MSE  \n"
      ],
      "metadata": {
        "id": "lb9VaitDtF6j"
      }
    },
    {
      "cell_type": "code",
      "source": [
        "\n",
        "def cost_func(theta,X,y):\n",
        "  #ajouter un colone 1\n",
        "  X=np.insert(X,0,1,axis=1)\n",
        "  #calculer la prevision\n",
        "  y_pred=X.dot(theta)\n",
        "  #calculer lerreur MSE\n",
        "  mse= np.mean((y_pred-y)**2)\n",
        "  return mse\n",
        "\n",
        "  #initialiser les coefficient theta les parametres\n",
        "  theta_init= np.array([0,0])\n",
        " # Minimiser la fonction de coût avec la méthode BFGS\n",
        " result = minimize(cost_func , args=(X, y), method='BFGS')\n",
        " print(\"Coefficients :\", result.x)\n",
        " print(\"Erreur MSE :\", result.fun)\n",
        "\n",
        "\n"
      ],
      "metadata": {
        "id": "yim236OSxyNw",
        "outputId": "b9649da2-ab9c-411d-bd3c-112abc4b146b",
        "colab": {
          "base_uri": "https://localhost:8080/",
          "height": 130
        }
      },
      "execution_count": 39,
      "outputs": [
        {
          "output_type": "error",
          "ename": "IndentationError",
          "evalue": "ignored",
          "traceback": [
            "\u001b[0;36m  File \u001b[0;32m\"<tokenize>\"\u001b[0;36m, line \u001b[0;32m13\u001b[0m\n\u001b[0;31m    result = minimize(cost_func , args=(X, y), method='BFGS')\u001b[0m\n\u001b[0m    ^\u001b[0m\n\u001b[0;31mIndentationError\u001b[0m\u001b[0;31m:\u001b[0m unindent does not match any outer indentation level\n"
          ]
        }
      ]
    }
  ],
  "metadata": {
    "colab": {
      "name": "Bienvenue dans Colaboratory",
      "toc_visible": true,
      "provenance": [],
      "include_colab_link": true
    },
    "kernelspec": {
      "display_name": "Python 3",
      "name": "python3"
    }
  },
  "nbformat": 4,
  "nbformat_minor": 0
}